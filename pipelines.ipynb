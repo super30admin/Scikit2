{
 "cells": [
  {
   "cell_type": "code",
   "execution_count": 1,
   "metadata": {},
   "outputs": [
    {
     "name": "stdout",
     "output_type": "stream",
     "text": [
      "[Pipeline] ............... (step 1 of 3) Processing pca, total=   0.0s\n",
      "[Pipeline] ............... (step 2 of 3) Processing std, total=   0.0s\n",
      "[Pipeline] ..... (step 3 of 3) Processing decision_tree, total=   0.0s\n",
      "0.9473684210526315\n"
     ]
    }
   ],
   "source": [
    "from sklearn import datasets\n",
    "from sklearn.model_selection import train_test_split\n",
    "from sklearn.preprocessing import StandardScaler\n",
    "from sklearn.decomposition import PCA\n",
    "from sklearn.tree import DecisionTreeClassifier\n",
    "# import some data within sklearn for iris classification\n",
    "iris = datasets.load_iris()\n",
    "X = iris.data\n",
    "y = iris.target\n",
    "\n",
    "# Splitting data into train and testing part\n",
    "# The 25 % of data is test size of the data\n",
    "X_train, X_test, y_train, y_test = train_test_split(X, y, test_size = 0.25)\n",
    "# importing pipes for making the Pipe flow\n",
    "from sklearn.pipeline import Pipeline\n",
    "# pipe flow is :\n",
    "# PCA(Dimension reduction to two) -> Scaling the data -> DecisionTreeClassification\n",
    "pipe = Pipeline([('pca', PCA(n_components = 2)), ('std', StandardScaler()), ('decision_tree', DecisionTreeClassifier())], verbose = True)\n",
    "\n",
    "# fitting the data in the pipe\n",
    "pipe.fit(X_train, y_train)\n",
    "\n",
    "# scoring data\n",
    "from sklearn.metrics import accuracy_score\n",
    "print(accuracy_score(y_test, pipe.predict(X_test)))\n"
   ]
  },
  {
   "cell_type": "code",
   "execution_count": 5,
   "metadata": {},
   "outputs": [
    {
     "name": "stdout",
     "output_type": "stream",
     "text": [
      "[Pipeline] ............... (step 1 of 3) Processing pca, total=   0.0s\n",
      "[Pipeline] ............... (step 2 of 3) Processing std, total=   0.0s\n",
      "[Pipeline] ..... (step 3 of 3) Processing Decision_tree, total=   0.0s\n"
     ]
    },
    {
     "data": {
      "text/plain": [
       "{'memory': None,\n",
       " 'steps': [('pca', PCA(n_components=2)),\n",
       "  ('std', StandardScaler()),\n",
       "  ('Decision_tree', DecisionTreeClassifier())],\n",
       " 'verbose': True,\n",
       " 'pca': PCA(n_components=2),\n",
       " 'std': StandardScaler(),\n",
       " 'Decision_tree': DecisionTreeClassifier(),\n",
       " 'pca__copy': True,\n",
       " 'pca__iterated_power': 'auto',\n",
       " 'pca__n_components': 2,\n",
       " 'pca__random_state': None,\n",
       " 'pca__svd_solver': 'auto',\n",
       " 'pca__tol': 0.0,\n",
       " 'pca__whiten': False,\n",
       " 'std__copy': True,\n",
       " 'std__with_mean': True,\n",
       " 'std__with_std': True,\n",
       " 'Decision_tree__ccp_alpha': 0.0,\n",
       " 'Decision_tree__class_weight': None,\n",
       " 'Decision_tree__criterion': 'gini',\n",
       " 'Decision_tree__max_depth': None,\n",
       " 'Decision_tree__max_features': None,\n",
       " 'Decision_tree__max_leaf_nodes': None,\n",
       " 'Decision_tree__min_impurity_decrease': 0.0,\n",
       " 'Decision_tree__min_samples_leaf': 1,\n",
       " 'Decision_tree__min_samples_split': 2,\n",
       " 'Decision_tree__min_weight_fraction_leaf': 0.0,\n",
       " 'Decision_tree__random_state': None,\n",
       " 'Decision_tree__splitter': 'best'}"
      ]
     },
     "execution_count": 5,
     "metadata": {},
     "output_type": "execute_result"
    }
   ],
   "source": [
    "from sklearn import datasets\n",
    "from sklearn.model_selection import train_test_split\n",
    "from sklearn.preprocessing import StandardScaler\n",
    "from sklearn.decomposition import PCA\n",
    "from sklearn.tree import DecisionTreeClassifier\n",
    "# import some data within sklearn for iris classification\n",
    "iris = datasets.load_iris()\n",
    "X = iris.data\n",
    "y = iris.target\n",
    "\n",
    "X_train, X_test, y_train, y_test = train_test_split(X, y, test_size = 0.25)\n",
    "\n",
    "from sklearn.pipeline import Pipeline\n",
    "pipe = Pipeline([('pca', PCA(n_components = 2)), ('std', StandardScaler()), ('Decision_tree', DecisionTreeClassifier())], verbose = True)\n",
    "pipe.fit(X_train, y_train)\n",
    "\n",
    "# to see all the hyper parameters\n",
    "pipe.get_params()\n"
   ]
  },
  {
   "cell_type": "code",
   "execution_count": null,
   "metadata": {},
   "outputs": [],
   "source": []
  },
  {
   "cell_type": "code",
   "execution_count": null,
   "metadata": {},
   "outputs": [],
   "source": []
  }
 ],
 "metadata": {
  "kernelspec": {
   "display_name": "base",
   "language": "python",
   "name": "python3"
  },
  "language_info": {
   "codemirror_mode": {
    "name": "ipython",
    "version": 3
   },
   "file_extension": ".py",
   "mimetype": "text/x-python",
   "name": "python",
   "nbconvert_exporter": "python",
   "pygments_lexer": "ipython3",
   "version": "3.9.12"
  },
  "orig_nbformat": 4
 },
 "nbformat": 4,
 "nbformat_minor": 2
}
